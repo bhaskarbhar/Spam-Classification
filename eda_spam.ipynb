{
 "cells": [
  {
   "cell_type": "code",
   "execution_count": 2,
   "metadata": {},
   "outputs": [],
   "source": [
    "import pandas as pd\n",
    "import os\n",
    "import re\n",
    "from sklearn.feature_extraction.text import CountVectorizer\n",
    "from wordcloud import WordCloud\n",
    "import matplotlib.pyplot as plt"
   ]
  },
  {
   "cell_type": "code",
   "execution_count": 3,
   "metadata": {},
   "outputs": [],
   "source": [
    "def read_spam():\n",
    "    category = 'spam'\n",
    "    directory = './enron1/spam'\n",
    "    return read_category(category, directory)\n",
    "\n",
    "def read_ham():\n",
    "    category = 'ham'\n",
    "    directory = './enron1/ham'\n",
    "    return read_category(category, directory)\n",
    "\n",
    "def read_category(category, directory):\n",
    "    emails = []\n",
    "    for filename in os.listdir(directory):\n",
    "        if not filename.endswith(\".txt\"):\n",
    "            continue\n",
    "        with open(os.path.join(directory, filename), 'r') as fp:\n",
    "            try:\n",
    "                content = fp.read()\n",
    "                emails.append({'name': filename, 'content': content, 'category': category})\n",
    "            except:\n",
    "                print(f'skipped {filename}')\n",
    "    return emails\n"
   ]
  },
  {
   "cell_type": "code",
   "execution_count": null,
   "metadata": {},
   "outputs": [],
   "source": [
    "spam = read_spam()\n",
    "ham = read_ham()\n",
    "\n",
    "spam_df = pd.DataFrame.from_records(spam)\n",
    "ham_df = pd.DataFrame.from_records(ham)\n"
   ]
  },
  {
   "cell_type": "code",
   "execution_count": 5,
   "metadata": {},
   "outputs": [],
   "source": [
    "df = pd.concat([spam_df, ham_df], ignore_index=True)"
   ]
  },
  {
   "cell_type": "code",
   "execution_count": 6,
   "metadata": {},
   "outputs": [],
   "source": [
    "def preprocessor(e):\n",
    "    return re.sub('[^A-Za-z]', ' ', e).lower()\n",
    "\n",
    "custom_stop_words = [\n",
    "    # Pronouns\n",
    "    'i', 'you', 'he', 'she', 'it', 'we', 'they', 'me', 'him', 'her', 'us', 'them',\n",
    "    'my', 'your', 'his', 'her', 'its', 'our', 'their', 'mine', 'yours', 'hers', 'ours', 'theirs',\n",
    "    'myself', 'yourself', 'himself', 'herself', 'itself', 'ourselves', 'yourselves', 'themselves',\n",
    "    'this', 'that', 'these', 'those', 'who', 'whom', 'whose', 'which', 'that',\n",
    "    'anyone', 'everyone', 'someone', 'no one', 'anybody', 'everybody', 'somebody', 'nobody',\n",
    "    'anything', 'everything', 'something', 'nothing', 'all', 'each', 'few', 'many', 'none', 'some', 'one',\n",
    "    'who', 'whom', 'whose', 'which', 'what',\n",
    "    \n",
    "    # Prepositions\n",
    "    'about', 'above', 'across', 'after', 'against', 'along', 'amid', 'among', 'around', 'as', 'at',\n",
    "    'before', 'behind', 'below', 'beneath', 'beside', 'besides', 'between', 'beyond', 'but', 'by',\n",
    "    'concerning', 'considering', 'despite', 'down', 'during', 'except', 'for', 'from', 'in', 'inside', 'into',\n",
    "    'like', 'near', 'of', 'off', 'on', 'onto', 'opposite', 'out', 'outside', 'over', 'past', 'regarding',\n",
    "    'round', 'since', 'through', 'throughout', 'till', 'to', 'toward', 'under', 'underneath', 'until', 'up', \n",
    "    'upon', 'with', 'within', 'without',\n",
    "    \n",
    "    # Articles\n",
    "    'the', 'a', 'an',\n",
    "    \n",
    "    # Conjunctions\n",
    "    'and', 'but', 'or', 'nor', 'for', 'so', 'yet', 'although', 'because', 'since', 'unless', 'while',\n",
    "\n",
    "    # Auxiliary Verbs\n",
    "    'be', 'am', 'is', 'are', 'was', 'were', 'been', 'being',\n",
    "    'have', 'has', 'had', 'having',\n",
    "    'do', 'does', 'did', 'doing',\n",
    "    'can', 'could', 'shall', 'should', 'will', 'would', 'may', 'might', 'must', 'ought',\n",
    "    \n",
    "    # Common Action Verbs (Infinitive and Present)\n",
    "    'go', 'come', 'get', 'make', 'take', 'give', 'say', 'know', 'see', 'think', 'want', 'use', \n",
    "    'find', 'tell', 'ask', 'work', 'seem', 'feel', 'try', 'leave', 'call',\n",
    "    \n",
    "    # Common Action Verbs (Past and Past Participle Forms)\n",
    "    'went', 'came', 'got', 'made', 'took', 'gave', 'said', 'knew', 'saw', 'thought', 'wanted', \n",
    "    'used', 'found', 'told', 'asked', 'worked', 'seemed', 'felt', 'tried', 'left', 'called',\n",
    "    \n",
    "    #Common words\n",
    "    \"subject\",\"not\",\"no\",\"more\",\"here\",\"any\",\"if\",\"only\",\"please\"\n",
    "]\n"
   ]
  },
  {
   "cell_type": "code",
   "execution_count": null,
   "metadata": {},
   "outputs": [],
   "source": [
    "vectorizer_spam = CountVectorizer(preprocessor=preprocessor, stop_words=custom_stop_words)\n",
    "X_spam = vectorizer_spam.fit_transform(spam_df['content'])\n",
    "\n",
    "total_word_frequencies_spam = X_spam.sum(axis=0)\n",
    "word_frequency_dict_spam = dict(zip(vectorizer_spam.get_feature_names_out(), total_word_frequencies_spam.A1))\n",
    "\n",
    "sorted_word_frequencies_spam = sorted(word_frequency_dict_spam.items(), key=lambda item: item[1], reverse=True)\n",
    "\n",
    "top_n = 20\n",
    "print(f\"Top {top_n} words in Spam Emails:\")\n",
    "for word, frequency in sorted_word_frequencies_spam[:top_n]:\n",
    "    print(f\"{word}: {frequency}\")\n",
    "\n",
    "wordcloud_spam = WordCloud(width=800, height=400, background_color='white').generate_from_frequencies(word_frequency_dict_spam)\n",
    "\n",
    "plt.figure(figsize=(10, 5))\n",
    "plt.imshow(wordcloud_spam, interpolation='bilinear')\n",
    "plt.axis('off')\n",
    "plt.title('Word Cloud for Spam Emails')\n",
    "plt.show()\n"
   ]
  },
  {
   "cell_type": "code",
   "execution_count": null,
   "metadata": {},
   "outputs": [],
   "source": [
    "vectorizer_ham = CountVectorizer(preprocessor=preprocessor, stop_words=custom_stop_words)\n",
    "X_ham = vectorizer_ham.fit_transform(ham_df['content'])\n",
    "\n",
    "total_word_frequencies_ham = X_ham.sum(axis=0)\n",
    "word_frequency_dict_ham = dict(zip(vectorizer_ham.get_feature_names_out(), total_word_frequencies_ham.A1))\n",
    "\n",
    "sorted_word_frequencies_ham = sorted(word_frequency_dict_ham.items(), key=lambda item: item[1], reverse=True)\n",
    "\n",
    "top_n = 20\n",
    "print(f\"Top {top_n} words in Ham Emails:\")\n",
    "for word, frequency in sorted_word_frequencies_ham[:top_n]:\n",
    "    print(f\"{word}: {frequency}\")\n",
    "\n",
    "wordcloud_ham = WordCloud(width=800, height=400, background_color='white').generate_from_frequencies(word_frequency_dict_ham)\n",
    "\n",
    "plt.figure(figsize=(10, 5))\n",
    "plt.imshow(wordcloud_ham, interpolation='bilinear')\n",
    "plt.axis('off')\n",
    "plt.title('Word Cloud for Ham Emails')\n",
    "plt.show()\n"
   ]
  },
  {
   "cell_type": "code",
   "execution_count": null,
   "metadata": {},
   "outputs": [],
   "source": [
    "class_distribution = df['category'].value_counts()\n",
    "\n",
    "print(\"Class Distribution:\")\n",
    "print(class_distribution)\n",
    "\n",
    "class_distribution.plot(kind='bar', color=['skyblue', 'lightcoral'])\n",
    "plt.title('Class Distribution of Emails')\n",
    "plt.xlabel('Category')\n",
    "plt.ylabel('Number of Emails')\n",
    "plt.xticks(rotation=0)\n",
    "plt.show()"
   ]
  },
  {
   "cell_type": "code",
   "execution_count": null,
   "metadata": {},
   "outputs": [],
   "source": [
    "top_spam_words = sorted_word_frequencies_spam[:10]\n",
    "spam_words, spam_frequencies = zip(*top_spam_words)\n",
    "plt.figure(figsize=(10, 5))\n",
    "plt.bar(spam_words, spam_frequencies, color='lightcoral')\n",
    "plt.title('Top 10 Words in Spam Emails')\n",
    "plt.xlabel('Words')\n",
    "plt.ylabel('Frequency')\n",
    "plt.xticks(rotation=45)\n",
    "plt.show()"
   ]
  },
  {
   "cell_type": "code",
   "execution_count": null,
   "metadata": {},
   "outputs": [],
   "source": [
    "top_ham_words = sorted_word_frequencies_ham[:10]\n",
    "ham_words, ham_frequencies = zip(*top_ham_words)\n",
    "plt.figure(figsize=(10, 5))\n",
    "plt.bar(ham_words, ham_frequencies, color='skyblue')\n",
    "plt.title('Top 10 Words in Ham Emails')\n",
    "plt.xlabel('Words')\n",
    "plt.ylabel('Frequency')\n",
    "plt.xticks(rotation=45)\n",
    "plt.show()"
   ]
  }
 ],
 "metadata": {
  "kernelspec": {
   "display_name": "Python 3",
   "language": "python",
   "name": "python3"
  },
  "language_info": {
   "codemirror_mode": {
    "name": "ipython",
    "version": 3
   },
   "file_extension": ".py",
   "mimetype": "text/x-python",
   "name": "python",
   "nbconvert_exporter": "python",
   "pygments_lexer": "ipython3",
   "version": "3.10.11"
  }
 },
 "nbformat": 4,
 "nbformat_minor": 2
}
